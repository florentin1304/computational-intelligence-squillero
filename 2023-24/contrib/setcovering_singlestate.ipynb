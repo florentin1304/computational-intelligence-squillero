{
 "cells": [
  {
   "cell_type": "markdown",
   "id": "185f9931-b384-4fdc-a5b2-eea785428bb8",
   "metadata": {},
   "source": [
    "Copyright **`(c)`** 2023 Florentin-Cristian Udrea"
   ]
  },
  {
   "cell_type": "code",
   "execution_count": 86,
   "id": "3ffe7245-e849-41d0-9698-5f0e0b83fee9",
   "metadata": {},
   "outputs": [],
   "source": [
    "from itertools import product\n",
    "from random import random, randint, shuffle, seed\n",
    "import numpy as np\n",
    "from scipy import sparse\n",
    "from copy import deepcopy\n",
    "from functools import reduce\n",
    "from collections import namedtuple, deque\n",
    "from queue import PriorityQueue\n",
    "import tqdm"
   ]
  },
  {
   "cell_type": "code",
   "execution_count": 87,
   "id": "6f03bd67-78a0-4d72-95b7-77a918727b91",
   "metadata": {},
   "outputs": [],
   "source": [
    "def make_set_covering_problem(num_points, num_sets, density):\n",
    "    \"\"\"Returns a sparse array where rows are sets and columns are the covered items\"\"\"\n",
    "    seed(num_points*2654435761+num_sets+density)\n",
    "    sets = sparse.lil_array((num_sets, num_points), dtype=bool)\n",
    "    for s, p in product(range(num_sets), range(num_points)):\n",
    "        if random() < density:\n",
    "            sets[s, p] = True\n",
    "    for p in range(num_points):\n",
    "        sets[randint(0, num_sets-1), p] = True\n",
    "    return sets"
   ]
  },
  {
   "cell_type": "markdown",
   "id": "82b0be37-21d9-492d-9a1d-cf0cdf0ddd76",
   "metadata": {},
   "source": [
    "# Halloween Challenge\n",
    "\n",
    "Find the best solution with the fewest calls to the fitness functions for:\n",
    "\n",
    "* `num_points = [100, 1_000, 5_000]`\n",
    "* `num_sets = num_points`\n",
    "* `density = [.3, .7]` "
   ]
  },
  {
   "cell_type": "markdown",
   "id": "56875bde",
   "metadata": {},
   "source": [
    "Best solutions\n",
    "\n",
    "|   | .3  | .7  | \n",
    "|---|---|---|\n",
    "| 100  | 6 | 3 | \n",
    "| 1000  | 12  | 4 |\n",
    "|  5000 | 17  | 6 |\n",
    "\n",
    "Average number of calls to fitness function per solution:\n",
    "\n",
    "|   | .3  | .7  |  \n",
    "|---|---|---|\n",
    "| 100  | 37.23 | 10.55 | \n",
    "| 1000  | 48.82  | 13.53 |\n",
    "|  5000 | 64.26  | 18.00 | \n",
    "\n",
    "Num resets:\n",
    "\n",
    "|   | .3  | .7  |  \n",
    "|---|---|---|\n",
    "| 100  | 1000 | 1000 | \n",
    "| 1000  | 100 | 100 |\n",
    "|  5000 | 30  | 30 |  "
   ]
  },
  {
   "cell_type": "code",
   "execution_count": 88,
   "id": "221ffdba-5d3d-48cc-bd08-45ccc9366ea6",
   "metadata": {},
   "outputs": [
    {
     "name": "stdout",
     "output_type": "stream",
     "text": [
      "Element at row=42 and column=42: True\n"
     ]
    }
   ],
   "source": [
    "NUM_POINTS = 100\n",
    "PROBLEM_SIZE = 100\n",
    "DENSITY = 0.3\n",
    "SETS = make_set_covering_problem(NUM_POINTS, PROBLEM_SIZE, DENSITY)\n",
    "print(\"Element at row=42 and column=42:\", SETS[42, 42])"
   ]
  },
  {
   "cell_type": "code",
   "execution_count": 89,
   "id": "73584cf5",
   "metadata": {},
   "outputs": [],
   "source": [
    "global CALLS_FITNESS\n",
    "CALLS_FITNESS = 0\n",
    "\n",
    "def fitness(state):\n",
    "    global CALLS_FITNESS \n",
    "    CALLS_FITNESS += 1\n",
    "    \n",
    "    cost = sum(state)\n",
    "    elem_set = set()\n",
    "    non_zeros = SETS.nonzero() # sets, elements\n",
    "    \n",
    "    # for each set in solution add it's elements indexes\n",
    "    # only appear once because adding to set, so it's basically OR\n",
    "    valid = [elem_set.add( non_zeros[1][i] ) \\\n",
    "             for i in range(len(non_zeros[0])) \\\n",
    "             if state[ non_zeros[0][i] ] ]\n",
    "    valid = len(elem_set)\n",
    "    return valid, -cost\n"
   ]
  },
  {
   "cell_type": "code",
   "execution_count": 90,
   "id": "42d96a1f",
   "metadata": {},
   "outputs": [],
   "source": [
    "def tweak(state, change_meter):\n",
    "    new_state = deepcopy(state)\n",
    "\n",
    "    for _ in range(change_meter):\n",
    "        index = randint(0, PROBLEM_SIZE - 1)\n",
    "        new_state[index] = not new_state[index]\n",
    "    \n",
    "    return new_state\n",
    "\n",
    "def tweak2(state, current_valid):\n",
    "    new_state = deepcopy(state)\n",
    "    \n",
    "    index_ttf = np.random.choice([i for i in range(len(state)) if state[i]])\n",
    "    new_state[index_ttf] = not new_state[index_ttf]\n",
    "    if not current_valid:\n",
    "        index_ftt = np.random.choice([i for i in range(len(state)) if not state[i]])\n",
    "        new_state[index_ftt] = not new_state[index_ftt]\n",
    "\n",
    "    return new_state\n",
    "\n",
    "def tweak_large_random(state, current_valid, change_meter):\n",
    "    new_state = deepcopy(state)\n",
    "    \n",
    "    index_ttf = np.random.choice([i for i in range(len(state)) if state[i]], change_meter, replace=False).tolist()\n",
    "    index_ftt = []\n",
    "    if not current_valid:\n",
    "        index_ftt = np.random.choice([i for i in range(len(state)) if not state[i]], change_meter, replace=False).tolist()\n",
    "\n",
    "    for i in index_ftt+index_ttf:\n",
    "        new_state[i] = not new_state[i]\n",
    "\n",
    "    return new_state\n",
    "\n",
    "def tweak_list(state, current_fitness, seen_solutions):\n",
    "    new_state = deepcopy(state)\n",
    "    actions = np.array([i for i in range(len(state)) if state[i]])\n",
    "    np.random.shuffle(actions)\n",
    "    \n",
    "    for k in actions:\n",
    "        new_state[k] = not new_state[k]\n",
    "        if new_state in seen_solutions:\n",
    "            new_state[k] = not new_state[k]\n",
    "            continue\n",
    "\n",
    "        new_fitness = fitness(new_state)\n",
    "        if new_fitness > current_fitness:\n",
    "            seen_solutions.append(new_state)\n",
    "            return new_state\n",
    "        else:\n",
    "            new_state[k] = not new_state[k] ### undo action \n",
    "        \n",
    "\n",
    "    \n",
    "    return state\n"
   ]
  },
  {
   "cell_type": "code",
   "execution_count": 94,
   "id": "6492337b-8429-472d-9c3e-c79c5b46da54",
   "metadata": {},
   "outputs": [
    {
     "name": "stderr",
     "output_type": "stream",
     "text": [
      "100%|██████████| 10000/10000 [2:04:44<00:00,  1.34it/s] "
     ]
    },
    {
     "name": "stdout",
     "output_type": "stream",
     "text": [
      "Best solution had 6 sets\n",
      "Average calls:  37.3019\n",
      "Num of saved states:  32115\n"
     ]
    },
    {
     "name": "stderr",
     "output_type": "stream",
     "text": [
      "\n"
     ]
    }
   ],
   "source": [
    "CALLS_FITNESS = 0\n",
    "NUM_RESET = 10_000\n",
    "sols = []\n",
    "fits = []\n",
    "calls = [0]\n",
    "\n",
    "list_of_seen_solutions = []\n",
    "\n",
    "for reset in tqdm.tqdm(range(NUM_RESET)):    \n",
    "    current_state = [np.random.choice([False]) for _ in range(PROBLEM_SIZE)]\n",
    "    current_fitness = (-1, -PROBLEM_SIZE) #fitness(current_state)\n",
    "    while current_fitness[0] != PROBLEM_SIZE:\n",
    "        for _ in range( max(1,PROBLEM_SIZE//50) ):\n",
    "            index = np.random.randint(PROBLEM_SIZE)\n",
    "            current_state[index] = True\n",
    "\n",
    "        current_fitness = fitness(current_state)\n",
    "        \n",
    "    if NUM_RESET == 1:\n",
    "        print(f\"STEP {'-':>5} | \", current_fitness)\n",
    "\n",
    "    change_meter = -current_fitness[1] // 2 + 1\n",
    "\n",
    "    NUM_STEPS = 1_000\n",
    "\n",
    "    greedy=False\n",
    "    for step in range(NUM_STEPS):\n",
    "        change_meter = max(1, change_meter - 1)\n",
    "        if change_meter == 1:\n",
    "            greedy = True\n",
    "            \n",
    "        if greedy:\n",
    "            new_state = tweak_list(current_state, current_fitness, list_of_seen_solutions)\n",
    "            if new_state == current_state:\n",
    "                break\n",
    "        else:\n",
    "            new_state = tweak_large_random(current_state, \n",
    "                            current_valid=(current_fitness[0] == PROBLEM_SIZE), \n",
    "                            change_meter=change_meter)\n",
    "                        \n",
    "        new_fitness = fitness(new_state)\n",
    "        \n",
    "        if new_fitness > current_fitness:\n",
    "            current_state = new_state\n",
    "            current_fitness = new_fitness\n",
    "\n",
    "            change_meter = -current_fitness[1] // 2 \n",
    "            # greedy = False  \n",
    "            if NUM_RESET == 1:     \n",
    "               print(f\"STEP {step:5} | \", current_fitness, \"(First improvement HC)\" if greedy else \"\")\n",
    "\n",
    "    if NUM_RESET==1:\n",
    "        print(f\"Calls to fitness: {CALLS_FITNESS}\")\n",
    "        print(\"Best fitness: \", current_fitness)\n",
    "    sols.append(current_state)\n",
    "    fits.append(current_fitness)\n",
    "    calls.append(deepcopy(CALLS_FITNESS))\n",
    "\n",
    "print(\"Best solution had \", end=\"\")\n",
    "print(abs(np.max([fits[i][1] for i in range(len(fits))])), end=\" \")\n",
    "print(\"sets\")\n",
    "print(\"Average calls: \", np.mean([calls[i]- calls[i-1] for i in range(1,len(calls))] ))\n",
    "print(\"Num of saved states: \", len(list_of_seen_solutions))"
   ]
  },
  {
   "cell_type": "code",
   "execution_count": null,
   "id": "79cbc28e",
   "metadata": {},
   "outputs": [],
   "source": []
  }
 ],
 "metadata": {
  "kernelspec": {
   "display_name": "Python 3 (ipykernel)",
   "language": "python",
   "name": "python3"
  },
  "language_info": {
   "codemirror_mode": {
    "name": "ipython",
    "version": 3
   },
   "file_extension": ".py",
   "mimetype": "text/x-python",
   "name": "python",
   "nbconvert_exporter": "python",
   "pygments_lexer": "ipython3",
   "version": "3.10.4"
  }
 },
 "nbformat": 4,
 "nbformat_minor": 5
}
